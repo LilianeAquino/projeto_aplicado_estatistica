{
 "cells": [
  {
   "cell_type": "markdown",
   "metadata": {
    "id": "WvMflodMjQKe",
    "slideshow": {
     "slide_type": "slide"
    }
   },
   "source": [
    "# Projeto Aplicado\n",
    ">Curso de Estatística para Ciência de Dados e Business Analytics"
   ]
  },
  {
   "cell_type": "markdown",
   "metadata": {
    "id": "cVgsZ_E3jQKg",
    "slideshow": {
     "slide_type": "notes"
    }
   },
   "source": [
    "## Conjunto de dados"
   ]
  },
  {
   "cell_type": "markdown",
   "metadata": {
    "id": "iN1gIbaKjQKh",
    "slideshow": {
     "slide_type": "slide"
    }
   },
   "source": [
    "<font size=4.5><b>Pesquisa Nacional por Amostra de Domicílios - 2015</b></font>\n",
    "\n",
    "<p style='text-align: justify;'><font size=3.5>A <b>Pesquisa Nacional por Amostra de Domicílios - PNAD</b> tinha periodicidade anual e pequisava, de forma permanente, características gerais da população como educação, trabalho, rendimento e habitação e outras. O levantamento dessas estatísticas constituiu, ao longo dos 49 anos de realização da pesquisa, um importante instrumento para formulação, validação e avaliação de políticas orientadas para o desenvolvimento socioeconômico e a melhoria das condições de vida no Brasil. A PNAD foi  encerrada em 2016 e substituída, com metodologia atualizada, pela Pesquisa Nacional por Amostra de Domicílios Contínua - PNAD Contínua.</font></p>\n",
    "\n",
    "<font size=2><b>Fonte dos dados</b>: https://www.ibge.gov.br/estatisticas/sociais/educacao/9127-pesquisa-nacional-por-amostra-de-domicilios.html?=&t=microdados</font>"
   ]
  },
  {
   "cell_type": "markdown",
   "metadata": {
    "id": "r0Fe_qnzjQKj",
    "slideshow": {
     "slide_type": "notes"
    }
   },
   "source": [
    "## Dicionário dos dados\n",
    "\n",
    "> **Renda**: rendimento mensal do trabalho principal para pessoas de 10 anos ou mais de idade.\n",
    "> ***\n",
    "> **Idade**: idade do morador na data de referência em anos.\n",
    "> ***\n",
    "> **UF**:\n",
    "> ***\n",
    "\n",
    "|Código|Descrição|\n",
    "|---|---|\n",
    "|11|Rondônia|\n",
    "|12|Acre|\n",
    "|13|Amazonas|\n",
    "|14|Roraima|\n",
    "|15|Pará|\n",
    "|16|Amapá|\n",
    "|17|Tocantins|\n",
    "|21|Maranhão|\n",
    "|22|Piauí|\n",
    "|23|Ceará|\n",
    "|24|Rio Grande do Norte|\n",
    "|25|Paraíba|\n",
    "|26|Pernambuco|\n",
    "|27|Alagoas|\n",
    "|28|Sergipe|\n",
    "|29|Bahia|\n",
    "|31|Minas Gerais|\n",
    "|32|Espírito Santo|\n",
    "|33|Rio de Janeiro|\n",
    "|35|São Paulo|\n",
    "|41|Paraná|\n",
    "|42|Santa Catarina|\n",
    "|43|Rio Grande do Sul|\n",
    "|50|Mato Grosso do Sul|\n",
    "|51|Mato Grosso|\n",
    "|52|Goiás|\n",
    "|53|Distrito Federal|\n",
    "\n",
    "> **Sexo**\t\n",
    "> ***\n",
    "\n",
    "|Código|Descrição|\n",
    "|---|---|\n",
    "|0|Masculino|\n",
    "|1|Feminino|\n",
    "\n",
    "> **Anos de Estudo**\n",
    "> ***\n",
    "\n",
    "|Código|Descrição|\n",
    "|---|---|\n",
    "|1|Sem instrução e menos de 1 ano|\n",
    "|2|1 ano|\n",
    "|3|2 anos|\n",
    "|4|3 anos|\n",
    "|5|4 anos|\n",
    "|6|5 anos|\n",
    "|7|6 anos|\n",
    "|8|7 anos|\n",
    "|9|8 anos|\n",
    "|10|9 anos|\n",
    "|11|10 anos|\n",
    "|12|11 anos|\n",
    "|13|12 anos|\n",
    "|14|13 anos|\n",
    "|15|14 anos|\n",
    "|16|15 anos ou mais|\n",
    "|17|Não determinados| \n",
    "||Não aplicável|\n",
    "\n",
    "> **Cor**\n",
    "> ***\n",
    "\n",
    "|Código|Descrição|\n",
    "|---|---|\n",
    "|0|Indígena|\n",
    "|2|Branca|\n",
    "|4|Preta|\n",
    "|6|Amarela|\n",
    "|8|Parda|\n",
    "|9|Sem declaração|"
   ]
  },
  {
   "cell_type": "markdown",
   "metadata": {
    "id": "OK1IQH5cX7Gb",
    "slideshow": {
     "slide_type": "notes"
    }
   },
   "source": [
    "#### Observação\n",
    "***\n",
    "> Os seguintes tratamentos foram realizados nos dados originais:\n",
    "> 1. Foram eliminados os registros onde a <b>Renda</b> era inválida (999 999 999 999);\n",
    "> 2. Foram eliminados os registros onde a <b>Renda</b> era missing;\n",
    "> 3. Foram considerados somente os registros das <b>Pessoas de Referência</b> de cada domicílio (responsável pelo domicílio)."
   ]
  },
  {
   "cell_type": "markdown",
   "metadata": {
    "slideshow": {
     "slide_type": "notes"
    }
   },
   "source": [
    "## Bibliotecas básicas e outras inicializações"
   ]
  },
  {
   "cell_type": "code",
   "execution_count": 1,
   "metadata": {
    "ExecuteTime": {
     "end_time": "2021-10-27T19:18:18.776788Z",
     "start_time": "2021-10-27T19:18:16.550521Z"
    },
    "id": "fcTgimHBybMz",
    "slideshow": {
     "slide_type": "notes"
    }
   },
   "outputs": [],
   "source": [
    "import warnings\n",
    "import pandas as pd\n",
    "import numpy as np\n",
    "import seaborn as sns\n",
    "import matplotlib.pyplot as plt\n",
    "import matplotlib\n",
    "matplotlib.style.use(['ggplot'])\n",
    "\n",
    "plt.rcParams['axes.facecolor']='white'\n",
    "plt.rcParams['font.family'] = 'Arial, Helvetica, sans-serif'\n",
    "\n",
    "warnings.filterwarnings('ignore')\n",
    "\n",
    "pd.set_option('display.max_rows', 1000)\n",
    "pd.set_option('display.max_columns', 200)\n",
    "np.set_printoptions(suppress=True, precision=3)\n",
    "\n",
    "%run mapaVariaveis.py"
   ]
  },
  {
   "cell_type": "markdown",
   "metadata": {
    "id": "2a-gvBvCULwt",
    "slideshow": {
     "slide_type": "slide"
    }
   },
   "source": [
    "## Carregamento dos dados"
   ]
  },
  {
   "cell_type": "code",
   "execution_count": 2,
   "metadata": {
    "ExecuteTime": {
     "end_time": "2021-10-27T19:18:18.784592Z",
     "start_time": "2021-10-27T19:18:18.780451Z"
    },
    "slideshow": {
     "slide_type": "notes"
    }
   },
   "outputs": [],
   "source": [
    "##Falar sobre o significado das colunas, tipo de dados e tamanho da base e as observações:\n",
    "# Foram eliminados os registros onde a Renda era inválida (999 999 999 999);\n",
    "# Foram eliminados os registros onde a Renda era missing;\n",
    "# Foram considerados somente os registros das Pessoas de Referência de cada domicílio (responsável pelo domicílio)."
   ]
  },
  {
   "cell_type": "code",
   "execution_count": 3,
   "metadata": {
    "ExecuteTime": {
     "end_time": "2021-10-27T19:18:18.896662Z",
     "start_time": "2021-10-27T19:18:18.788588Z"
    },
    "id": "ufRZ7TLwjQKo",
    "slideshow": {
     "slide_type": "subslide"
    }
   },
   "outputs": [
    {
     "name": "stdout",
     "output_type": "stream",
     "text": [
      "Linhas: 76840 | Colunas: 6\n"
     ]
    },
    {
     "data": {
      "text/html": [
       "<div>\n",
       "<style scoped>\n",
       "    .dataframe tbody tr th:only-of-type {\n",
       "        vertical-align: middle;\n",
       "    }\n",
       "\n",
       "    .dataframe tbody tr th {\n",
       "        vertical-align: top;\n",
       "    }\n",
       "\n",
       "    .dataframe thead th {\n",
       "        text-align: right;\n",
       "    }\n",
       "</style>\n",
       "<table border=\"1\" class=\"dataframe\">\n",
       "  <thead>\n",
       "    <tr style=\"text-align: right;\">\n",
       "      <th></th>\n",
       "      <th>UF</th>\n",
       "      <th>Sexo</th>\n",
       "      <th>Idade</th>\n",
       "      <th>Cor</th>\n",
       "      <th>Anos de Estudo</th>\n",
       "      <th>Renda</th>\n",
       "    </tr>\n",
       "  </thead>\n",
       "  <tbody>\n",
       "    <tr>\n",
       "      <th>0</th>\n",
       "      <td>11</td>\n",
       "      <td>0</td>\n",
       "      <td>23</td>\n",
       "      <td>8</td>\n",
       "      <td>12</td>\n",
       "      <td>800</td>\n",
       "    </tr>\n",
       "    <tr>\n",
       "      <th>1</th>\n",
       "      <td>11</td>\n",
       "      <td>1</td>\n",
       "      <td>23</td>\n",
       "      <td>2</td>\n",
       "      <td>12</td>\n",
       "      <td>1150</td>\n",
       "    </tr>\n",
       "    <tr>\n",
       "      <th>2</th>\n",
       "      <td>11</td>\n",
       "      <td>1</td>\n",
       "      <td>35</td>\n",
       "      <td>8</td>\n",
       "      <td>15</td>\n",
       "      <td>880</td>\n",
       "    </tr>\n",
       "    <tr>\n",
       "      <th>3</th>\n",
       "      <td>11</td>\n",
       "      <td>0</td>\n",
       "      <td>46</td>\n",
       "      <td>2</td>\n",
       "      <td>6</td>\n",
       "      <td>3500</td>\n",
       "    </tr>\n",
       "    <tr>\n",
       "      <th>4</th>\n",
       "      <td>11</td>\n",
       "      <td>1</td>\n",
       "      <td>47</td>\n",
       "      <td>8</td>\n",
       "      <td>9</td>\n",
       "      <td>150</td>\n",
       "    </tr>\n",
       "  </tbody>\n",
       "</table>\n",
       "</div>"
      ],
      "text/plain": [
       "   UF  Sexo  Idade  Cor  Anos de Estudo  Renda\n",
       "0  11     0     23    8              12    800\n",
       "1  11     1     23    2              12   1150\n",
       "2  11     1     35    8              15    880\n",
       "3  11     0     46    2               6   3500\n",
       "4  11     1     47    8               9    150"
      ]
     },
     "execution_count": 3,
     "metadata": {},
     "output_type": "execute_result"
    }
   ],
   "source": [
    "df = pd.read_csv('dataset/dados.csv')\n",
    "print(f'Linhas: {df.shape[0]} | Colunas: {df.shape[1]}')\n",
    "df.head(5)"
   ]
  },
  {
   "cell_type": "markdown",
   "metadata": {
    "slideshow": {
     "slide_type": "notes"
    }
   },
   "source": [
    "## Informação dos dados"
   ]
  },
  {
   "cell_type": "code",
   "execution_count": 4,
   "metadata": {
    "ExecuteTime": {
     "end_time": "2021-10-27T19:18:18.922216Z",
     "start_time": "2021-10-27T19:18:18.900772Z"
    },
    "slideshow": {
     "slide_type": "notes"
    }
   },
   "outputs": [
    {
     "name": "stdout",
     "output_type": "stream",
     "text": [
      "<class 'pandas.core.frame.DataFrame'>\n",
      "RangeIndex: 76840 entries, 0 to 76839\n",
      "Data columns (total 6 columns):\n",
      " #   Column          Non-Null Count  Dtype\n",
      "---  ------          --------------  -----\n",
      " 0   UF              76840 non-null  int64\n",
      " 1   Sexo            76840 non-null  int64\n",
      " 2   Idade           76840 non-null  int64\n",
      " 3   Cor             76840 non-null  int64\n",
      " 4   Anos de Estudo  76840 non-null  int64\n",
      " 5   Renda           76840 non-null  int64\n",
      "dtypes: int64(6)\n",
      "memory usage: 3.5 MB\n"
     ]
    }
   ],
   "source": [
    "df.info()"
   ]
  },
  {
   "cell_type": "markdown",
   "metadata": {
    "slideshow": {
     "slide_type": "slide"
    }
   },
   "source": [
    "## Comportamento variável Renda\n",
    "\n",
    "<p style='text-align: justify;'><font size=2.85>Para avaliar o comportamento da variável RENDA, foi construida uma tabela de frequências considerando as seguintes classes em salários mínimos:</font></p>\n",
    "\n",
    "<b>A</b> ► Acima de 25 SM\n",
    "\n",
    "<b>B</b> ► De 15 a 25 SM\n",
    "\n",
    "<b>C</b> ► De 5 a 15 SM\n",
    "\n",
    "<b>D</b> ► De 2 a 5 SM\n",
    "\n",
    "<b>E</b> ► Até 2 SM\n",
    "\n",
    "<p style='text-align: justify;'><font size=2.85>O salário mínimo na época da pesquisa era de <b>R$ 788,00</b>.</font></p>"
   ]
  },
  {
   "cell_type": "markdown",
   "metadata": {
    "slideshow": {
     "slide_type": "notes"
    }
   },
   "source": [
    "Tabela de frequência"
   ]
  },
  {
   "cell_type": "code",
   "execution_count": 5,
   "metadata": {
    "ExecuteTime": {
     "end_time": "2021-10-27T19:18:18.959712Z",
     "start_time": "2021-10-27T19:18:18.926035Z"
    },
    "colab": {
     "base_uri": "https://localhost:8080/"
    },
    "id": "-Ct3QUj6Tg1p",
    "outputId": "7b3d5cec-4b28-42e6-f349-2eebff600824",
    "slideshow": {
     "slide_type": "notes"
    }
   },
   "outputs": [
    {
     "name": "stdout",
     "output_type": "stream",
     "text": [
      "Intevalos das classes: de 0 até 200000 reais\n"
     ]
    },
    {
     "data": {
      "text/plain": [
       "E    49755\n",
       "D    18602\n",
       "C     7241\n",
       "B      822\n",
       "A      420\n",
       "Name: Renda, dtype: int64"
      ]
     },
     "execution_count": 5,
     "metadata": {},
     "output_type": "execute_result"
    }
   ],
   "source": [
    "print('Intevalos das classes: de %s até %s reais' % (df['Renda'].min(), df['Renda'].max()))\n",
    "classes = [df['Renda'].min(), 1576, 3940, 11820, 19700, df['Renda'].max()]\n",
    "\n",
    "labels = ['E', 'D', 'C', 'B', 'A']\n",
    "frequencia = pd.value_counts(pd.cut(x=df['Renda'], bins=classes, labels=labels, include_lowest=True))\n",
    "frequencia"
   ]
  },
  {
   "cell_type": "markdown",
   "metadata": {
    "id": "2k6nGUZKTg11",
    "slideshow": {
     "slide_type": "notes"
    }
   },
   "source": [
    "Coluna de percentuais"
   ]
  },
  {
   "cell_type": "code",
   "execution_count": 6,
   "metadata": {
    "ExecuteTime": {
     "end_time": "2021-10-27T19:18:18.991844Z",
     "start_time": "2021-10-27T19:18:18.962702Z"
    },
    "colab": {
     "base_uri": "https://localhost:8080/"
    },
    "id": "rdwUABsnTg12",
    "outputId": "9653a121-b86d-412f-9ae6-f19630b07fdf",
    "slideshow": {
     "slide_type": "notes"
    }
   },
   "outputs": [
    {
     "data": {
      "text/html": [
       "<div>\n",
       "<style scoped>\n",
       "    .dataframe tbody tr th:only-of-type {\n",
       "        vertical-align: middle;\n",
       "    }\n",
       "\n",
       "    .dataframe tbody tr th {\n",
       "        vertical-align: top;\n",
       "    }\n",
       "\n",
       "    .dataframe thead th {\n",
       "        text-align: right;\n",
       "    }\n",
       "</style>\n",
       "<table border=\"1\" class=\"dataframe\">\n",
       "  <thead>\n",
       "    <tr style=\"text-align: right;\">\n",
       "      <th></th>\n",
       "      <th>Frequência</th>\n",
       "      <th>Percentual (%)</th>\n",
       "    </tr>\n",
       "  </thead>\n",
       "  <tbody>\n",
       "    <tr>\n",
       "      <th>A</th>\n",
       "      <td>420</td>\n",
       "      <td>0.005466</td>\n",
       "    </tr>\n",
       "    <tr>\n",
       "      <th>B</th>\n",
       "      <td>822</td>\n",
       "      <td>0.010698</td>\n",
       "    </tr>\n",
       "    <tr>\n",
       "      <th>C</th>\n",
       "      <td>7241</td>\n",
       "      <td>0.094235</td>\n",
       "    </tr>\n",
       "    <tr>\n",
       "      <th>D</th>\n",
       "      <td>18602</td>\n",
       "      <td>0.242087</td>\n",
       "    </tr>\n",
       "    <tr>\n",
       "      <th>E</th>\n",
       "      <td>49755</td>\n",
       "      <td>0.647514</td>\n",
       "    </tr>\n",
       "  </tbody>\n",
       "</table>\n",
       "</div>"
      ],
      "text/plain": [
       "   Frequência  Percentual (%)\n",
       "A         420        0.005466\n",
       "B         822        0.010698\n",
       "C        7241        0.094235\n",
       "D       18602        0.242087\n",
       "E       49755        0.647514"
      ]
     },
     "execution_count": 6,
     "metadata": {},
     "output_type": "execute_result"
    }
   ],
   "source": [
    "percentual = pd.value_counts(pd.cut(x=df['Renda'], bins=classes, labels=labels, include_lowest=True), normalize=True)\n",
    "dist_freq = pd.DataFrame({'Frequência': frequencia, 'Percentual (%)': percentual})\n",
    "dist_freq.sort_index(ascending=False)"
   ]
  },
  {
   "cell_type": "markdown",
   "metadata": {
    "id": "DOYtXuSbTg18",
    "slideshow": {
     "slide_type": "notes"
    }
   },
   "source": [
    "Gráfico de barras"
   ]
  },
  {
   "cell_type": "code",
   "execution_count": 7,
   "metadata": {
    "ExecuteTime": {
     "end_time": "2021-10-27T19:18:19.321016Z",
     "start_time": "2021-10-27T19:18:18.995071Z"
    },
    "colab": {
     "base_uri": "https://localhost:8080/",
     "height": 356
    },
    "hide_input": false,
    "id": "arhoqR7UaMpH",
    "outputId": "db0b75c2-07b5-4157-f53d-9dbd5dc28c87",
    "slideshow": {
     "slide_type": "subslide"
    }
   },
   "outputs": [
    {
     "data": {
      "image/png": "[encoded data removed]",
      "text/plain": [
       "<Figure size 720x360 with 1 Axes>"
      ]
     },
     "metadata": {},
     "output_type": "display_data"
    }
   ],
   "source": [
    "dist_freq['Frequência'].plot.bar(width=1, color='red', alpha=0.5, figsize=(10, 5), rot=False)\n",
    "plt.title('Distribuição de frequência para renda', fontsize=16, y=1.05, loc='left', x=-0.06)\n",
    "plt.xlabel('Classes', fontsize=12, horizontalalignment='right', x=0.13)\n",
    "plt.ylabel('Frequência', fontsize=12, horizontalalignment='left', y=0.75)\n",
    "plt.show()"
   ]
  },
  {
   "cell_type": "markdown",
   "metadata": {
    "id": "9ppt5JevTg1-",
    "slideshow": {
     "slide_type": "fragment"
    }
   },
   "source": [
    "<p style='text-align: justify;'><font size=2.85>Boa parte da população que compõe essa base pertencem a classe E, ou seja, possuem uma renda de até 2 salários mínimos.</font></p>"
   ]
  },
  {
   "cell_type": "markdown",
   "metadata": {
    "id": "yt-gFm93Tg1-",
    "slideshow": {
     "slide_type": "slide"
    }
   },
   "source": [
    "## Histogramas"
   ]
  },
  {
   "cell_type": "code",
   "execution_count": 8,
   "metadata": {
    "ExecuteTime": {
     "end_time": "2021-10-27T19:18:20.441038Z",
     "start_time": "2021-10-27T19:18:19.323957Z"
    },
    "colab": {
     "base_uri": "https://localhost:8080/",
     "height": 412
    },
    "id": "s55WPk1aTg2C",
    "outputId": "43f9b2db-e7e9-4841-e9f9-61902a261981",
    "slideshow": {
     "slide_type": "subslide"
    }
   },
   "outputs": [
    {
     "data": {
      "image/png": "[encoded data removed]",
      "text/plain": [
       "<Figure size 720x360 with 1 Axes>"
      ]
     },
     "metadata": {},
     "output_type": "display_data"
    }
   ],
   "source": [
    "ax = sns.distplot(df['Idade'], kde=True)\n",
    "ax.figure.set_size_inches(10, 5)\n",
    "ax.set_title('Distribuição de frequência para idade', fontsize=16, y=1.05, loc='left', x=-0.06)\n",
    "ax.set_xlabel('Idade em anos', fontsize=12, horizontalalignment='right', x=0.20)\n",
    "ax.set_ylabel('Densidade', fontsize=12, horizontalalignment='left', y=0.78)\n",
    "plt.show()"
   ]
  },
  {
   "cell_type": "markdown",
   "metadata": {
    "ExecuteTime": {
     "end_time": "2021-10-25T16:21:54.824872Z",
     "start_time": "2021-10-25T16:21:54.818092Z"
    },
    "slideshow": {
     "slide_type": "fragment"
    }
   },
   "source": [
    "<p style='text-align: justify;'><font size=2.85>A variável idade possui muitos picos e vales e uma curva parecida com a normal. Existe uma grande variação.</font></p>"
   ]
  },
  {
   "cell_type": "code",
   "execution_count": 10,
   "metadata": {
    "ExecuteTime": {
     "end_time": "2021-10-27T19:18:21.754987Z",
     "start_time": "2021-10-27T19:18:20.462727Z"
    },
    "colab": {
     "base_uri": "https://localhost:8080/",
     "height": 412
    },
    "id": "Oji6FcFtb9DO",
    "outputId": "da68e9ca-cb7b-4289-c223-cb2d58e55a13",
    "slideshow": {
     "slide_type": "subslide"
    }
   },
   "outputs": [
    {
     "data": {
      "image/png": "[encoded data removed]",
      "text/plain": [
       "<Figure size 720x360 with 1 Axes>"
      ]
     },
     "metadata": {},
     "output_type": "display_data"
    }
   ],
   "source": [
    "ax = sns.distplot(df['Renda'], kde=True)\n",
    "ax.figure.set_size_inches(10, 5)\n",
    "ax.set_title('Distribuição de frequência para renda', fontsize=16, y=1.05, loc='left', x=-0.07)\n",
    "ax.set_xlabel('Valores em reais', fontsize=12, horizontalalignment='right', x=0.225)\n",
    "ax.set_ylabel('Densidade', fontsize=12, horizontalalignment='left', y=0.60)\n",
    "plt.show()"
   ]
  },
  {
   "cell_type": "markdown",
   "metadata": {
    "id": "w45i-qJ1Tg2E",
    "slideshow": {
     "slide_type": "fragment"
    }
   },
   "source": [
    "<p style='text-align: justify;'><font size=2.85>A variável Renda possui uma assimetria à direita, o que indica que boa parte das pessoas que compõe essa base recebem salários mais baixos. Podemos ver também a existência de alguns valores mais altos.</font></p>"
   ]
  },
  {
   "cell_type": "markdown",
   "metadata": {
    "id": "Aoeayf6zTg2P",
    "slideshow": {
     "slide_type": "slide"
    }
   },
   "source": [
    "## Análise descritiva para a variável Renda"
   ]
  },
  {
   "cell_type": "code",
   "execution_count": 23,
   "metadata": {
    "ExecuteTime": {
     "end_time": "2021-10-27T19:23:48.213057Z",
     "start_time": "2021-10-27T19:23:48.133826Z"
    },
    "slideshow": {
     "slide_type": "subslide"
    }
   },
   "outputs": [
    {
     "data": {
      "text/html": [
       "<div>\n",
       "<style scoped>\n",
       "    .dataframe tbody tr th:only-of-type {\n",
       "        vertical-align: middle;\n",
       "    }\n",
       "\n",
       "    .dataframe tbody tr th {\n",
       "        vertical-align: top;\n",
       "    }\n",
       "\n",
       "    .dataframe thead th {\n",
       "        text-align: right;\n",
       "    }\n",
       "</style>\n",
       "<table border=\"1\" class=\"dataframe\">\n",
       "  <thead>\n",
       "    <tr style=\"text-align: right;\">\n",
       "      <th></th>\n",
       "      <th>Idade</th>\n",
       "      <th>Anos de Estudo</th>\n",
       "      <th>Renda</th>\n",
       "    </tr>\n",
       "  </thead>\n",
       "  <tbody>\n",
       "    <tr>\n",
       "      <th>count</th>\n",
       "      <td>76840.000000</td>\n",
       "      <td>70800.000000</td>\n",
       "      <td>76840.000000</td>\n",
       "    </tr>\n",
       "    <tr>\n",
       "      <th>mean</th>\n",
       "      <td>44.071421</td>\n",
       "      <td>8.149054</td>\n",
       "      <td>2000.383199</td>\n",
       "    </tr>\n",
       "    <tr>\n",
       "      <th>std</th>\n",
       "      <td>12.480583</td>\n",
       "      <td>3.978494</td>\n",
       "      <td>3323.387730</td>\n",
       "    </tr>\n",
       "    <tr>\n",
       "      <th>min</th>\n",
       "      <td>13.000000</td>\n",
       "      <td>0.000000</td>\n",
       "      <td>0.000000</td>\n",
       "    </tr>\n",
       "    <tr>\n",
       "      <th>25%</th>\n",
       "      <td>34.000000</td>\n",
       "      <td>5.000000</td>\n",
       "      <td>788.000000</td>\n",
       "    </tr>\n",
       "    <tr>\n",
       "      <th>50%</th>\n",
       "      <td>43.000000</td>\n",
       "      <td>10.000000</td>\n",
       "      <td>1200.000000</td>\n",
       "    </tr>\n",
       "    <tr>\n",
       "      <th>75%</th>\n",
       "      <td>53.000000</td>\n",
       "      <td>10.000000</td>\n",
       "      <td>2000.000000</td>\n",
       "    </tr>\n",
       "    <tr>\n",
       "      <th>max</th>\n",
       "      <td>99.000000</td>\n",
       "      <td>14.000000</td>\n",
       "      <td>200000.000000</td>\n",
       "    </tr>\n",
       "  </tbody>\n",
       "</table>\n",
       "</div>"
      ],
      "text/plain": [
       "              Idade  Anos de Estudo          Renda\n",
       "count  76840.000000    70800.000000   76840.000000\n",
       "mean      44.071421        8.149054    2000.383199\n",
       "std       12.480583        3.978494    3323.387730\n",
       "min       13.000000        0.000000       0.000000\n",
       "25%       34.000000        5.000000     788.000000\n",
       "50%       43.000000       10.000000    1200.000000\n",
       "75%       53.000000       10.000000    2000.000000\n",
       "max       99.000000       14.000000  200000.000000"
      ]
     },
     "execution_count": 23,
     "metadata": {},
     "output_type": "execute_result"
    }
   ],
   "source": [
    "sample = df.drop(['UF', 'Sexo', 'Cor'], axis=1)\n",
    "sample['Anos de Estudo'] = sample['Anos de Estudo'].map(map_anos_estudos)\n",
    "sample.describe()"
   ]
  },
  {
   "cell_type": "markdown",
   "metadata": {
    "slideshow": {
     "slide_type": "fragment"
    }
   },
   "source": [
    "<p style='text-align: justify;'><font size=2.85>A idade média é de 44 anos com uma variação de 12,5 anos. A idade varia entre 13 e 99 anos e os anos passados na escola eram, em média, 8 com 25% da nossa amostra tendo estudado 5 anos ou menos.</font></p>\n",
    "<p style='text-align: justify;'><font size=2.85>A renda média das famílias, em 2015, era de 2000,38 reais com uma variação de 3323,38 reais. Metade da nossa amostra recebia até 1.5 salário mínimo e cerca de 19.210 pessoas viviam com 1 salário minimo ou menos.</font></p>"
   ]
  },
  {
   "cell_type": "markdown",
   "metadata": {
    "ExecuteTime": {
     "end_time": "2021-10-25T20:11:37.333874Z",
     "start_time": "2021-10-25T20:11:37.328543Z"
    },
    "slideshow": {
     "slide_type": "slide"
    }
   },
   "source": [
    "## Renda por raça e sexo\n",
    "\n",
    "<p style='text-align: justify;'><font size=2.85>Na nossa amostra, para cada 2.257 homens chefes de família, há 1 mulher. Por isso, para mantermos uma comparação justa, usaremos uma amostra aleatória equilibrada de 10000 instâncias.</font></p>"
   ]
  },
  {
   "cell_type": "code",
   "execution_count": 12,
   "metadata": {
    "ExecuteTime": {
     "end_time": "2021-10-27T19:18:21.842678Z",
     "start_time": "2021-10-27T19:18:21.801380Z"
    },
    "slideshow": {
     "slide_type": "notes"
    }
   },
   "outputs": [
    {
     "name": "stdout",
     "output_type": "stream",
     "text": [
      "0    50.0\n",
      "1    50.0\n",
      "Name: Sexo, dtype: float64\n"
     ]
    }
   ],
   "source": [
    "sample = df.groupby('Sexo').apply(lambda x : x.sample(n=10000, replace=False))\n",
    "print(sample['Sexo'].value_counts(normalize=True)*100)"
   ]
  },
  {
   "cell_type": "code",
   "execution_count": 13,
   "metadata": {
    "ExecuteTime": {
     "end_time": "2021-10-27T19:18:21.936157Z",
     "start_time": "2021-10-27T19:18:21.845632Z"
    },
    "slideshow": {
     "slide_type": "subslide"
    }
   },
   "outputs": [
    {
     "data": {
      "text/html": [
       "<div>\n",
       "<style scoped>\n",
       "    .dataframe tbody tr th:only-of-type {\n",
       "        vertical-align: middle;\n",
       "    }\n",
       "\n",
       "    .dataframe tbody tr th {\n",
       "        vertical-align: top;\n",
       "    }\n",
       "\n",
       "    .dataframe thead tr th {\n",
       "        text-align: left;\n",
       "    }\n",
       "\n",
       "    .dataframe thead tr:last-of-type th {\n",
       "        text-align: right;\n",
       "    }\n",
       "</style>\n",
       "<table border=\"1\" class=\"dataframe\">\n",
       "  <thead>\n",
       "    <tr>\n",
       "      <th></th>\n",
       "      <th colspan=\"2\" halign=\"left\">max</th>\n",
       "      <th colspan=\"2\" halign=\"left\">mean</th>\n",
       "      <th colspan=\"2\" halign=\"left\">median</th>\n",
       "      <th colspan=\"2\" halign=\"left\">std</th>\n",
       "    </tr>\n",
       "    <tr>\n",
       "      <th>Sexo</th>\n",
       "      <th>Masculino</th>\n",
       "      <th>Feminino</th>\n",
       "      <th>Masculino</th>\n",
       "      <th>Feminino</th>\n",
       "      <th>Masculino</th>\n",
       "      <th>Feminino</th>\n",
       "      <th>Masculino</th>\n",
       "      <th>Feminino</th>\n",
       "    </tr>\n",
       "    <tr>\n",
       "      <th>Cor</th>\n",
       "      <th></th>\n",
       "      <th></th>\n",
       "      <th></th>\n",
       "      <th></th>\n",
       "      <th></th>\n",
       "      <th></th>\n",
       "      <th></th>\n",
       "      <th></th>\n",
       "    </tr>\n",
       "  </thead>\n",
       "  <tbody>\n",
       "    <tr>\n",
       "      <th>Indígena</th>\n",
       "      <td>4000.0</td>\n",
       "      <td>120000.0</td>\n",
       "      <td>974.673913</td>\n",
       "      <td>3750.673913</td>\n",
       "      <td>788.0</td>\n",
       "      <td>788.0</td>\n",
       "      <td>995.110805</td>\n",
       "      <td>17600.434863</td>\n",
       "    </tr>\n",
       "    <tr>\n",
       "      <th>Branca</th>\n",
       "      <td>80000.0</td>\n",
       "      <td>60000.0</td>\n",
       "      <td>2932.286058</td>\n",
       "      <td>2074.693548</td>\n",
       "      <td>1800.0</td>\n",
       "      <td>1200.0</td>\n",
       "      <td>4016.997578</td>\n",
       "      <td>2976.205161</td>\n",
       "    </tr>\n",
       "    <tr>\n",
       "      <th>Preta</th>\n",
       "      <td>15000.0</td>\n",
       "      <td>15648.0</td>\n",
       "      <td>1547.855502</td>\n",
       "      <td>1135.714636</td>\n",
       "      <td>1200.0</td>\n",
       "      <td>800.0</td>\n",
       "      <td>1367.395741</td>\n",
       "      <td>1300.997893</td>\n",
       "    </tr>\n",
       "    <tr>\n",
       "      <th>Amarela</th>\n",
       "      <td>28000.0</td>\n",
       "      <td>20000.0</td>\n",
       "      <td>4711.655172</td>\n",
       "      <td>3237.744681</td>\n",
       "      <td>2500.0</td>\n",
       "      <td>1500.0</td>\n",
       "      <td>5648.675686</td>\n",
       "      <td>4438.347374</td>\n",
       "    </tr>\n",
       "    <tr>\n",
       "      <th>Parda</th>\n",
       "      <td>100000.0</td>\n",
       "      <td>24500.0</td>\n",
       "      <td>1710.502878</td>\n",
       "      <td>1182.091246</td>\n",
       "      <td>1200.0</td>\n",
       "      <td>800.0</td>\n",
       "      <td>2872.466638</td>\n",
       "      <td>1535.738995</td>\n",
       "    </tr>\n",
       "  </tbody>\n",
       "</table>\n",
       "</div>"
      ],
      "text/plain": [
       "               max                   mean                 median           \\\n",
       "Sexo     Masculino  Feminino    Masculino     Feminino Masculino Feminino   \n",
       "Cor                                                                         \n",
       "Indígena    4000.0  120000.0   974.673913  3750.673913     788.0    788.0   \n",
       "Branca     80000.0   60000.0  2932.286058  2074.693548    1800.0   1200.0   \n",
       "Preta      15000.0   15648.0  1547.855502  1135.714636    1200.0    800.0   \n",
       "Amarela    28000.0   20000.0  4711.655172  3237.744681    2500.0   1500.0   \n",
       "Parda     100000.0   24500.0  1710.502878  1182.091246    1200.0    800.0   \n",
       "\n",
       "                  std                \n",
       "Sexo        Masculino      Feminino  \n",
       "Cor                                  \n",
       "Indígena   995.110805  17600.434863  \n",
       "Branca    4016.997578   2976.205161  \n",
       "Preta     1367.395741   1300.997893  \n",
       "Amarela   5648.675686   4438.347374  \n",
       "Parda     2872.466638   1535.738995  "
      ]
     },
     "execution_count": 13,
     "metadata": {},
     "output_type": "execute_result"
    }
   ],
   "source": [
    "analise_renda = pd.crosstab(sample['Cor'], sample['Sexo'], values=sample['Renda'], aggfunc={'mean', 'median', 'max', 'std'})\n",
    "analise_renda.rename(index=cor, inplace=True)\n",
    "analise_renda.rename(columns=sexo, inplace=True)\n",
    "analise_renda"
   ]
  },
  {
   "cell_type": "markdown",
   "metadata": {
    "ExecuteTime": {
     "end_time": "2021-10-25T20:24:45.946757Z",
     "start_time": "2021-10-25T20:24:45.940246Z"
    },
    "slideshow": {
     "slide_type": "fragment"
    }
   },
   "source": [
    "<p style='text-align: justify;'><font size=2.85>Homens indígenas e mulheres negras eram o grupo que possuem a renda média mais baixa. Analisado a mediana, percebemos que, em geral, os homens possuiam renda superior a das mulheres.</font></p>"
   ]
  },
  {
   "cell_type": "markdown",
   "metadata": {
    "slideshow": {
     "slide_type": "slide"
    }
   },
   "source": [
    "## Renda por anos de estudo separado por sexo"
   ]
  },
  {
   "cell_type": "code",
   "execution_count": 14,
   "metadata": {
    "ExecuteTime": {
     "end_time": "2021-10-27T19:18:22.035793Z",
     "start_time": "2021-10-27T19:18:21.939210Z"
    },
    "colab": {
     "base_uri": "https://localhost:8080/",
     "height": 521
    },
    "id": "rgMU0WyJTg2v",
    "outputId": "b8dc19e2-36d1-433c-af01-855837a0c760",
    "slideshow": {
     "slide_type": "subslide"
    }
   },
   "outputs": [
    {
     "data": {
      "text/html": [
       "<div>\n",
       "<style scoped>\n",
       "    .dataframe tbody tr th:only-of-type {\n",
       "        vertical-align: middle;\n",
       "    }\n",
       "\n",
       "    .dataframe tbody tr th {\n",
       "        vertical-align: top;\n",
       "    }\n",
       "\n",
       "    .dataframe thead tr th {\n",
       "        text-align: left;\n",
       "    }\n",
       "\n",
       "    .dataframe thead tr:last-of-type th {\n",
       "        text-align: right;\n",
       "    }\n",
       "</style>\n",
       "<table border=\"1\" class=\"dataframe\">\n",
       "  <thead>\n",
       "    <tr>\n",
       "      <th></th>\n",
       "      <th colspan=\"2\" halign=\"left\">max</th>\n",
       "      <th colspan=\"2\" halign=\"left\">mean</th>\n",
       "      <th colspan=\"2\" halign=\"left\">median</th>\n",
       "      <th colspan=\"2\" halign=\"left\">std</th>\n",
       "    </tr>\n",
       "    <tr>\n",
       "      <th>Sexo</th>\n",
       "      <th>Masculino</th>\n",
       "      <th>Feminino</th>\n",
       "      <th>Masculino</th>\n",
       "      <th>Feminino</th>\n",
       "      <th>Masculino</th>\n",
       "      <th>Feminino</th>\n",
       "      <th>Masculino</th>\n",
       "      <th>Feminino</th>\n",
       "    </tr>\n",
       "    <tr>\n",
       "      <th>Anos de Estudo</th>\n",
       "      <th></th>\n",
       "      <th></th>\n",
       "      <th></th>\n",
       "      <th></th>\n",
       "      <th></th>\n",
       "      <th></th>\n",
       "      <th></th>\n",
       "      <th></th>\n",
       "    </tr>\n",
       "  </thead>\n",
       "  <tbody>\n",
       "    <tr>\n",
       "      <th>Sem instrução e menos de 1 ano</th>\n",
       "      <td>15000.0</td>\n",
       "      <td>10000.0</td>\n",
       "      <td>837.170670</td>\n",
       "      <td>523.784588</td>\n",
       "      <td>778.0</td>\n",
       "      <td>350.0</td>\n",
       "      <td>1101.924749</td>\n",
       "      <td>712.931286</td>\n",
       "    </tr>\n",
       "    <tr>\n",
       "      <th>1 ano</th>\n",
       "      <td>10000.0</td>\n",
       "      <td>2000.0</td>\n",
       "      <td>915.156566</td>\n",
       "      <td>493.736000</td>\n",
       "      <td>788.0</td>\n",
       "      <td>400.0</td>\n",
       "      <td>1019.819508</td>\n",
       "      <td>436.806153</td>\n",
       "    </tr>\n",
       "    <tr>\n",
       "      <th>2 anos</th>\n",
       "      <td>10000.0</td>\n",
       "      <td>1500.0</td>\n",
       "      <td>917.598684</td>\n",
       "      <td>495.642857</td>\n",
       "      <td>788.0</td>\n",
       "      <td>400.0</td>\n",
       "      <td>1016.912370</td>\n",
       "      <td>412.414771</td>\n",
       "    </tr>\n",
       "    <tr>\n",
       "      <th>3 anos</th>\n",
       "      <td>80000.0</td>\n",
       "      <td>2300.0</td>\n",
       "      <td>1326.764302</td>\n",
       "      <td>563.875000</td>\n",
       "      <td>800.0</td>\n",
       "      <td>600.0</td>\n",
       "      <td>4132.925027</td>\n",
       "      <td>423.708967</td>\n",
       "    </tr>\n",
       "    <tr>\n",
       "      <th>4 anos</th>\n",
       "      <td>15000.0</td>\n",
       "      <td>5000.0</td>\n",
       "      <td>1297.357985</td>\n",
       "      <td>706.634831</td>\n",
       "      <td>1000.0</td>\n",
       "      <td>788.0</td>\n",
       "      <td>1098.925579</td>\n",
       "      <td>543.614821</td>\n",
       "    </tr>\n",
       "    <tr>\n",
       "      <th>5 anos</th>\n",
       "      <td>14000.0</td>\n",
       "      <td>5000.0</td>\n",
       "      <td>1298.481356</td>\n",
       "      <td>775.105751</td>\n",
       "      <td>1000.0</td>\n",
       "      <td>788.0</td>\n",
       "      <td>1110.296306</td>\n",
       "      <td>564.304327</td>\n",
       "    </tr>\n",
       "    <tr>\n",
       "      <th>6 anos</th>\n",
       "      <td>15000.0</td>\n",
       "      <td>6000.0</td>\n",
       "      <td>1443.837500</td>\n",
       "      <td>862.398649</td>\n",
       "      <td>1200.0</td>\n",
       "      <td>788.0</td>\n",
       "      <td>1245.677509</td>\n",
       "      <td>595.378105</td>\n",
       "    </tr>\n",
       "    <tr>\n",
       "      <th>7 anos</th>\n",
       "      <td>40000.0</td>\n",
       "      <td>9000.0</td>\n",
       "      <td>1467.116618</td>\n",
       "      <td>824.753894</td>\n",
       "      <td>1100.0</td>\n",
       "      <td>788.0</td>\n",
       "      <td>2306.808329</td>\n",
       "      <td>682.163923</td>\n",
       "    </tr>\n",
       "    <tr>\n",
       "      <th>8 anos</th>\n",
       "      <td>20000.0</td>\n",
       "      <td>16000.0</td>\n",
       "      <td>1730.142329</td>\n",
       "      <td>945.687951</td>\n",
       "      <td>1400.0</td>\n",
       "      <td>800.0</td>\n",
       "      <td>1638.714293</td>\n",
       "      <td>939.795919</td>\n",
       "    </tr>\n",
       "    <tr>\n",
       "      <th>9 anos</th>\n",
       "      <td>30000.0</td>\n",
       "      <td>3500.0</td>\n",
       "      <td>1611.297872</td>\n",
       "      <td>894.008368</td>\n",
       "      <td>1300.0</td>\n",
       "      <td>791.0</td>\n",
       "      <td>2053.372210</td>\n",
       "      <td>585.667062</td>\n",
       "    </tr>\n",
       "    <tr>\n",
       "      <th>10 anos</th>\n",
       "      <td>15000.0</td>\n",
       "      <td>5000.0</td>\n",
       "      <td>1564.655914</td>\n",
       "      <td>920.860215</td>\n",
       "      <td>1200.0</td>\n",
       "      <td>800.0</td>\n",
       "      <td>1434.388348</td>\n",
       "      <td>641.894144</td>\n",
       "    </tr>\n",
       "    <tr>\n",
       "      <th>11 anos</th>\n",
       "      <td>30000.0</td>\n",
       "      <td>50000.0</td>\n",
       "      <td>2083.627765</td>\n",
       "      <td>1282.308529</td>\n",
       "      <td>1500.0</td>\n",
       "      <td>992.0</td>\n",
       "      <td>1978.352387</td>\n",
       "      <td>1497.503142</td>\n",
       "    </tr>\n",
       "    <tr>\n",
       "      <th>12 anos</th>\n",
       "      <td>15000.0</td>\n",
       "      <td>120000.0</td>\n",
       "      <td>2394.168831</td>\n",
       "      <td>1826.685121</td>\n",
       "      <td>1800.0</td>\n",
       "      <td>1200.0</td>\n",
       "      <td>1852.765198</td>\n",
       "      <td>7048.143583</td>\n",
       "    </tr>\n",
       "    <tr>\n",
       "      <th>13 anos</th>\n",
       "      <td>18000.0</td>\n",
       "      <td>20000.0</td>\n",
       "      <td>3186.045752</td>\n",
       "      <td>1913.857955</td>\n",
       "      <td>2300.0</td>\n",
       "      <td>1295.0</td>\n",
       "      <td>2735.317032</td>\n",
       "      <td>2116.077629</td>\n",
       "    </tr>\n",
       "    <tr>\n",
       "      <th>14 anos</th>\n",
       "      <td>25000.0</td>\n",
       "      <td>15000.0</td>\n",
       "      <td>3678.500000</td>\n",
       "      <td>2238.472000</td>\n",
       "      <td>2500.0</td>\n",
       "      <td>1549.0</td>\n",
       "      <td>3668.149076</td>\n",
       "      <td>2110.694378</td>\n",
       "    </tr>\n",
       "    <tr>\n",
       "      <th>15 anos ou mais</th>\n",
       "      <td>100000.0</td>\n",
       "      <td>60000.0</td>\n",
       "      <td>6101.060144</td>\n",
       "      <td>3865.050443</td>\n",
       "      <td>4061.0</td>\n",
       "      <td>2700.0</td>\n",
       "      <td>6790.018413</td>\n",
       "      <td>3971.206238</td>\n",
       "    </tr>\n",
       "    <tr>\n",
       "      <th>Não determinados</th>\n",
       "      <td>3600.0</td>\n",
       "      <td>3000.0</td>\n",
       "      <td>1299.090909</td>\n",
       "      <td>797.384615</td>\n",
       "      <td>1000.0</td>\n",
       "      <td>788.0</td>\n",
       "      <td>959.889424</td>\n",
       "      <td>553.859597</td>\n",
       "    </tr>\n",
       "  </tbody>\n",
       "</table>\n",
       "</div>"
      ],
      "text/plain": [
       "                                     max                   mean               \\\n",
       "Sexo                           Masculino  Feminino    Masculino     Feminino   \n",
       "Anos de Estudo                                                                 \n",
       "Sem instrução e menos de 1 ano   15000.0   10000.0   837.170670   523.784588   \n",
       "1 ano                            10000.0    2000.0   915.156566   493.736000   \n",
       "2 anos                           10000.0    1500.0   917.598684   495.642857   \n",
       "3 anos                           80000.0    2300.0  1326.764302   563.875000   \n",
       "4 anos                           15000.0    5000.0  1297.357985   706.634831   \n",
       "5 anos                           14000.0    5000.0  1298.481356   775.105751   \n",
       "6 anos                           15000.0    6000.0  1443.837500   862.398649   \n",
       "7 anos                           40000.0    9000.0  1467.116618   824.753894   \n",
       "8 anos                           20000.0   16000.0  1730.142329   945.687951   \n",
       "9 anos                           30000.0    3500.0  1611.297872   894.008368   \n",
       "10 anos                          15000.0    5000.0  1564.655914   920.860215   \n",
       "11 anos                          30000.0   50000.0  2083.627765  1282.308529   \n",
       "12 anos                          15000.0  120000.0  2394.168831  1826.685121   \n",
       "13 anos                          18000.0   20000.0  3186.045752  1913.857955   \n",
       "14 anos                          25000.0   15000.0  3678.500000  2238.472000   \n",
       "15 anos ou mais                 100000.0   60000.0  6101.060144  3865.050443   \n",
       "Não determinados                  3600.0    3000.0  1299.090909   797.384615   \n",
       "\n",
       "                                  median                   std               \n",
       "Sexo                           Masculino Feminino    Masculino     Feminino  \n",
       "Anos de Estudo                                                               \n",
       "Sem instrução e menos de 1 ano     778.0    350.0  1101.924749   712.931286  \n",
       "1 ano                              788.0    400.0  1019.819508   436.806153  \n",
       "2 anos                             788.0    400.0  1016.912370   412.414771  \n",
       "3 anos                             800.0    600.0  4132.925027   423.708967  \n",
       "4 anos                            1000.0    788.0  1098.925579   543.614821  \n",
       "5 anos                            1000.0    788.0  1110.296306   564.304327  \n",
       "6 anos                            1200.0    788.0  1245.677509   595.378105  \n",
       "7 anos                            1100.0    788.0  2306.808329   682.163923  \n",
       "8 anos                            1400.0    800.0  1638.714293   939.795919  \n",
       "9 anos                            1300.0    791.0  2053.372210   585.667062  \n",
       "10 anos                           1200.0    800.0  1434.388348   641.894144  \n",
       "11 anos                           1500.0    992.0  1978.352387  1497.503142  \n",
       "12 anos                           1800.0   1200.0  1852.765198  7048.143583  \n",
       "13 anos                           2300.0   1295.0  2735.317032  2116.077629  \n",
       "14 anos                           2500.0   1549.0  3668.149076  2110.694378  \n",
       "15 anos ou mais                   4061.0   2700.0  6790.018413  3971.206238  \n",
       "Não determinados                  1000.0    788.0   959.889424   553.859597  "
      ]
     },
     "execution_count": 14,
     "metadata": {},
     "output_type": "execute_result"
    }
   ],
   "source": [
    "analise_renda_2 = pd.crosstab(sample['Anos de Estudo'], sample['Sexo'], values=sample['Renda'], aggfunc={'mean', 'median', 'max', 'std'})\n",
    "analise_renda_2.rename(index=anos_de_estudo, inplace=True)\n",
    "analise_renda_2.rename(columns=sexo, inplace=True)\n",
    "analise_renda_2"
   ]
  },
  {
   "cell_type": "markdown",
   "metadata": {
    "id": "LrEECOmNTg2w",
    "slideshow": {
     "slide_type": "fragment"
    }
   },
   "source": [
    "<p style='text-align: justify;'><font size=2.85>Como regra geral, quanto mais anos de estudo, maior é a média salarial. Percebemos que, a média salarial dos homens era superior a das mulheres para todos os níveis de escolaridade.</font></p>\n",
    "\n",
    "<p style='text-align: justify;'><font size=2.85>Existem casos em que, mesmo com mais anos de estudos, o salário das mulheres era inferior ao de homens com menos instrução. Por exemplo, a média para uma mulher que estudou 6 anos era de 805.71 reais , valor inferior à média para homens com 2 anos de instrução (1005.60 reais). Se olharmos a mediana, ambos passam a receber o mesmo valor de 1 salário mínimo.</font></p>"
   ]
  },
  {
   "cell_type": "markdown",
   "metadata": {
    "slideshow": {
     "slide_type": "slide"
    }
   },
   "source": [
    "## Boxplot Renda"
   ]
  },
  {
   "cell_type": "code",
   "execution_count": 15,
   "metadata": {
    "ExecuteTime": {
     "end_time": "2021-10-27T19:18:22.488067Z",
     "start_time": "2021-10-27T19:18:22.038501Z"
    },
    "slideshow": {
     "slide_type": "subslide"
    }
   },
   "outputs": [
    {
     "data": {
      "image/png": "[encoded data removed]",
      "text/plain": [
       "<Figure size 864x432 with 1 Axes>"
      ]
     },
     "metadata": {},
     "output_type": "display_data"
    }
   ],
   "source": [
    "df.boxplot(['Renda'], figsize=(12, 6))\n",
    "plt.title('Análise boxplot renda', fontsize=16, y=1.05, loc='left', x=-0.06)\n",
    "plt.show()"
   ]
  },
  {
   "cell_type": "markdown",
   "metadata": {
    "slideshow": {
     "slide_type": "fragment"
    }
   },
   "source": [
    "<p style='text-align: justify;'><font size=2.85>Podemos ver que existem possíveis outliers na nossa amostra. Também temos uma cauda para a direita, o que indica uma grande concentração em salário mais baixos.</font></p>"
   ]
  },
  {
   "cell_type": "markdown",
   "metadata": {
    "slideshow": {
     "slide_type": "slide"
    }
   },
   "source": [
    "## Análise de correlação"
   ]
  },
  {
   "cell_type": "code",
   "execution_count": 16,
   "metadata": {
    "ExecuteTime": {
     "end_time": "2021-10-27T19:18:23.022053Z",
     "start_time": "2021-10-27T19:18:22.496560Z"
    },
    "slideshow": {
     "slide_type": "subslide"
    }
   },
   "outputs": [
    {
     "data": {
      "image/png": "[encoded data removed]",
      "text/plain": [
       "<Figure size 864x432 with 2 Axes>"
      ]
     },
     "metadata": {},
     "output_type": "display_data"
    }
   ],
   "source": [
    "df['Anos de Estudo'] = df['Anos de Estudo'].map(map_anos_estudos)\n",
    "corr = df.drop(['UF', 'Sexo', 'Cor'], axis=1).corr()\n",
    "\n",
    "plt.figure(figsize=(12, 6))\n",
    "plt.title('Correlação de Person', y=1.03, size=14, loc='left', x=0.001)\n",
    "sns.heatmap(corr, linewidths=0.1, vmax=1.0, square=True, cmap=plt.cm.copper, linecolor='white', annot=True)\n",
    "plt.xticks(rotation=0, ha='center')\n",
    "plt.show()"
   ]
  },
  {
   "cell_type": "markdown",
   "metadata": {
    "ExecuteTime": {
     "end_time": "2021-10-26T20:21:18.795380Z",
     "start_time": "2021-10-26T20:21:18.777592Z"
    },
    "slideshow": {
     "slide_type": "fragment"
    }
   },
   "source": [
    "<p style='text-align: justify;'><font size=2.85>Parece não existir correlação entre nossas varáveis, uma vez que todas possuem um grau de correlação bem fraco. O maior grau de correlação está associado a renda e aos anos de Estudo.</font></p>"
   ]
  }
 ],
 "metadata": {
  "celltoolbar": "Slideshow",
  "colab": {
   "collapsed_sections": [],
   "name": "Análise_Descritiva.ipynb",
   "provenance": []
  },
  "hide_input": false,
  "kernelspec": {
   "display_name": "Python 3 (ipykernel)",
   "language": "python",
   "name": "python3"
  },
  "language_info": {
   "codemirror_mode": {
    "name": "ipython",
    "version": 3
   },
   "file_extension": ".py",
   "mimetype": "text/x-python",
   "name": "python",
   "nbconvert_exporter": "python",
   "pygments_lexer": "ipython3",
   "version": "3.7.9"
  },
  "nbTranslate": {
   "displayLangs": [
    "*"
   ],
   "hotkey": "alt-t",
   "langInMainMenu": true,
   "sourceLang": "en",
   "targetLang": "fr",
   "useGoogleTranslate": true
  },
  "toc": {
   "base_numbering": 1,
   "nav_menu": {},
   "number_sections": true,
   "sideBar": true,
   "skip_h1_title": false,
   "title_cell": "Table of Contents",
   "title_sidebar": "Contents",
   "toc_cell": false,
   "toc_position": {},
   "toc_section_display": true,
   "toc_window_display": false
  },
  "varInspector": {
   "cols": {
    "lenName": 16,
    "lenType": 16,
    "lenVar": 40
   },
   "kernels_config": {
    "python": {
     "delete_cmd_postfix": "",
     "delete_cmd_prefix": "del ",
     "library": "var_list.py",
     "varRefreshCmd": "print(var_dic_list())"
    },
    "r": {
     "delete_cmd_postfix": ") ",
     "delete_cmd_prefix": "rm(",
     "library": "var_list.r",
     "varRefreshCmd": "cat(var_dic_list()) "
    }
   },
   "types_to_exclude": [
    "module",
    "function",
    "builtin_function_or_method",
    "instance",
    "_Feature"
   ],
   "window_display": false
  }
 },
 "nbformat": 4,
 "nbformat_minor": 1
}
